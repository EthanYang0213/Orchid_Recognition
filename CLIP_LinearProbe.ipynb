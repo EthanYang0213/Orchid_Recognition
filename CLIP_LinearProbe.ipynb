{
 "cells": [
  {
   "cell_type": "code",
   "execution_count": 9,
   "id": "c92a4383",
   "metadata": {
    "ExecuteTime": {
     "end_time": "2022-04-06T11:15:21.310332Z",
     "start_time": "2022-04-06T11:15:21.291316Z"
    }
   },
   "outputs": [
    {
     "name": "stdout",
     "output_type": "stream",
     "text": [
      "1.7.1\n"
     ]
    }
   ],
   "source": [
    "import os\n",
    "import clip\n",
    "import torch\n",
    "from PIL import Image\n",
    "import numpy as np\n",
    "import pandas as pd\n",
    "import sklearn\n",
    "import matplotlib.pyplot as plt\n",
    "from torch.utils.data import DataLoader\n",
    "from torchvision.datasets import CIFAR100\n",
    "from torch.utils.data import Subset\n",
    "from tqdm import tqdm\n",
    "from torch.utils.data.dataset import Dataset\n",
    "from torchvision import transforms\n",
    "import random\n",
    "from sklearn.model_selection import train_test_split, GridSearchCV\n",
    "\n",
    "print(f'{torch.__version__}')\n"
   ]
  },
  {
   "cell_type": "code",
   "execution_count": 2,
   "id": "24fa2a49",
   "metadata": {
    "ExecuteTime": {
     "end_time": "2022-04-06T11:14:58.910933Z",
     "start_time": "2022-04-06T11:14:58.901924Z"
    }
   },
   "outputs": [],
   "source": [
    "csv_path = '/tf/Datasets/TBrain_Orchid/label.csv'\n",
    "img_root = '/tf/Datasets/TBrain_Orchid/training'\n"
   ]
  },
  {
   "cell_type": "code",
   "execution_count": null,
   "id": "9da99f16",
   "metadata": {
    "ExecuteTime": {
     "end_time": "2022-04-06T06:51:52.502484Z",
     "start_time": "2022-04-06T06:51:52.496891Z"
    }
   },
   "outputs": [],
   "source": [
    "# CLIP preprocess"
   ]
  },
  {
   "cell_type": "code",
   "execution_count": 3,
   "id": "0b7cbee8",
   "metadata": {
    "ExecuteTime": {
     "end_time": "2022-04-06T11:15:23.731913Z",
     "start_time": "2022-04-06T11:15:23.724906Z"
    }
   },
   "outputs": [],
   "source": [
    "# Data augmentation\n",
    "train_transform = transforms.Compose([\n",
    "    transforms.Resize((256, 256), interpolation=Image.BICUBIC),\n",
    "    transforms.RandomCrop((224, 224)),\n",
    "#     transforms.RandomApply([transforms.ColorJitter(brightness=0.1, contrast=0.1, saturation=0.1, hue=0.0)], p=0.5),\n",
    "    transforms.RandomHorizontalFlip(p=0.5),\n",
    "    transforms.RandomVerticalFlip(p=0.5),\n",
    "    transforms.RandomApply([transforms.RandomRotation(30)], p=0.5),\n",
    "    transforms.ToTensor(), # 轉為torch tensor並歸一化\n",
    "    transforms.Normalize(mean=[0.48145466, 0.4578275, 0.40821073], std=[0.26862954, 0.26130258, 0.27577711]),\n",
    "])\n",
    "val_transform = transforms.Compose([\n",
    "    transforms.Resize((256, 256), interpolation=Image.BICUBIC),\n",
    "    transforms.RandomCrop((224, 224)),\n",
    "#     transforms.RandomApply([transforms.ColorJitter(brightness=0.2, contrast=0.2, saturation=0.2, hue=0.05)], p=0.5),\n",
    "#     transforms.RandomHorizontalFlip(p=0.5),\n",
    "#     transforms.RandomVerticalFlip(p=0.5),\n",
    "#     transforms.RandomApply([transforms.RandomRotation(30)], p=0.5),\n",
    "    transforms.ToTensor(), # 轉為torch tensor並歸一化\n",
    "    transforms.Normalize(mean=[0.48145466, 0.4578275, 0.40821073], std=[0.26862954, 0.26130258, 0.27577711]),\n",
    "])"
   ]
  },
  {
   "cell_type": "code",
   "execution_count": 4,
   "id": "92994c16",
   "metadata": {
    "ExecuteTime": {
     "end_time": "2022-04-06T11:58:28.704698Z",
     "start_time": "2022-04-06T11:58:28.689685Z"
    }
   },
   "outputs": [],
   "source": [
    "# 若沒有使用外部transform, 則需要自己將feature和label轉為torch.tensor\n",
    "# 要注意pytorch的影像格式是(3, 224, 224), 跟其他不一樣\n",
    "# 圖片照類別分在不同資料夾, 因此CSV中的檔名已經是完整路徑\n",
    "class CustomDatasetFromImages(Dataset):\n",
    "    def __init__(self, csv_path, img_root, transform=None, target_transform=None, repeat=None):\n",
    "        \"\"\"\n",
    "        Args:\n",
    "            csv_path (string): path to csv file\n",
    "            img_path (string): path to the folder where images are\n",
    "            transform: pytorch transforms for transforms and tensor conversion\n",
    "        \"\"\"\n",
    "        # Transforms\n",
    "        self.transform = transform\n",
    "        # Target_transform\n",
    "        self.target_transform = target_transform\n",
    "        # Read the csv file\n",
    "        self.data_info = pd.read_csv(csv_path)\n",
    "        # First column contains the image paths\n",
    "        self.image_arr = np.asarray(self.data_info.iloc[:, 0])\n",
    "        # Second column is the labels\n",
    "        self.label_arr = np.asarray(self.data_info.iloc[:, 1])\n",
    "        # Repeat for data augmentation\n",
    "        self.repeat = repeat\n",
    "        \n",
    "        # Calculate len\n",
    "        self.len = len(self.data_info.index)\n",
    "\n",
    "\n",
    "    def __getitem__(self, i):\n",
    "        iter_num = (i // self.len) + 1\n",
    "        index = (i % self.len)\n",
    "#         print(\"iters={},index={}\".format(iter_num, index))\n",
    "        # Get image name from the pandas df\n",
    "        single_image_name = self.image_arr[index]\n",
    "        single_image_name = os.path.join(img_root, single_image_name) # csv檔名若已經是完整路徑, 不用再加\n",
    "        # Open image\n",
    "        img = Image.open(single_image_name).convert('RGB') # 讀檔時轉為RGB\n",
    "        \n",
    "        # If there is an transform\n",
    "        if self.transform:\n",
    "            img = self.transform(img)\n",
    "#         if self.target_transform:\n",
    "#             label = self.target_transform(label)\n",
    "        \n",
    "        # Transform image to tensor\n",
    "#         img_as_tensor = self.to_tensor(img_as_img)\n",
    "        # Get label(class) of the image based on the cropped pandas column\n",
    "        single_image_label = self.label_arr[index]\n",
    "\n",
    "        return (img, single_image_label)\n",
    "\n",
    "    def __len__(self):\n",
    "        if self.repeat == None:\n",
    "            self.data_len = 10000000 # 設定成無限迴圈生成資料,以num_epoc和max_iteration來決定跳出\n",
    "        else:\n",
    "            self.data_len = self.len * self.repeat\n",
    "        return self.data_len\n"
   ]
  },
  {
   "cell_type": "code",
   "execution_count": 5,
   "id": "93d210c9",
   "metadata": {
    "ExecuteTime": {
     "end_time": "2022-04-06T11:58:31.395769Z",
     "start_time": "2022-04-06T11:58:31.379755Z"
    }
   },
   "outputs": [],
   "source": [
    "# Linear Probe 只用image-encoder, 沒用到text-encoder\n",
    "def get_features(dataset, epoch_num=1):\n",
    "    all_features = []\n",
    "    all_labels = []\n",
    "    epoch_num = epoch_num #總樣本迴圈次數\n",
    "    batch_size = 100 \n",
    "    train_data_nums = dataset.len\n",
    "    max_iterate = int((train_data_nums+batch_size-1)/batch_size*epoch_num) #總迭代次數\n",
    "    \n",
    "    \n",
    "    with torch.no_grad():\n",
    "        for steps, (images, labels) in tqdm(enumerate(DataLoader(dataset, batch_size=batch_size))):\n",
    "            features = model.encode_image(images.to(device))\n",
    "            print(f'Steps: {steps}')\n",
    "            all_features.append(features)\n",
    "            all_labels.append(labels)\n",
    "            \n",
    "            if (steps+1) == max_iterate:\n",
    "                break\n",
    "\n",
    "    return torch.cat(all_features).cpu().numpy(), torch.cat(all_labels).cpu().numpy()"
   ]
  },
  {
   "cell_type": "code",
   "execution_count": 39,
   "id": "32fde3f9",
   "metadata": {
    "ExecuteTime": {
     "end_time": "2022-04-06T11:37:49.138656Z",
     "start_time": "2022-04-06T11:37:46.648898Z"
    }
   },
   "outputs": [],
   "source": [
    "# Load the model, 可改其他model\n",
    "device = \"cuda\" if torch.cuda.is_available() else \"cpu\"\n",
    "# model, preprocess = clip.load('ViT-B/32', device)\n",
    "model, preprocess = clip.load('ViT-L/14', device) "
   ]
  },
  {
   "cell_type": "code",
   "execution_count": 57,
   "id": "cd59b069",
   "metadata": {
    "ExecuteTime": {
     "end_time": "2022-04-06T11:58:34.936342Z",
     "start_time": "2022-04-06T11:58:34.323787Z"
    }
   },
   "outputs": [],
   "source": [
    "# Call dataset\n",
    "# dataset =  CustomDatasetFromImages(csv_path=csv_path, img_root=img_root, transform=preprocess)\n",
    "dataset =  CustomDatasetFromImages(csv_path=csv_path, img_root=img_root)"
   ]
  },
  {
   "cell_type": "code",
   "execution_count": 58,
   "metadata": {},
   "outputs": [],
   "source": [
    "# 在Data augmentation前要先切好train-test\n",
    "# 依照label比例分割, 讓train和val中各類別比例一樣\n",
    "#Split dataset into train and validation\n",
    "\n",
    "class CustomSubset(Subset):\n",
    "    '''A custom subset class with customizable data transformation'''\n",
    "    def __init__(self, dataset, indices, subset_transform=None, repeat=None):\n",
    "        super().__init__(dataset, indices)\n",
    "#         self.targets = dataset.targets\n",
    "#         self.classes = dataset.classes\n",
    "        self.subset_transform = subset_transform\n",
    "        self.repeat = repeat\n",
    "        self.len = len(indices)\n",
    " \n",
    "    def __getitem__(self, i):\n",
    "        index = (i % self.len)\n",
    "        x, y = self.dataset[self.indices[index]]\n",
    "        \n",
    "        if self.subset_transform:\n",
    "            x = self.subset_transform(x)\n",
    "      \n",
    "        return x, y   \n",
    "    \n",
    "    def __len__(self): \n",
    "        if self.repeat == None: # trainset\n",
    "            self.subdata_len = 10000000 # 設定成無限迴圈生成資料,以num_epoc和max_iteration來決定跳出\n",
    "        else: # val/test set\n",
    "            self.subdata_len = self.len * self.repeat\n",
    "        return self.subdata_len\n",
    "\n",
    "train_indices, val_indices = train_test_split(list(range(len(dataset.label_arr))), test_size=0.3, stratify=dataset.label_arr, random_state=0)\n",
    "train_dataset = CustomSubset(dataset, train_indices, repeat=None)\n",
    "val_dataset = CustomSubset(dataset, val_indices, repeat=1)\n",
    "# 設定train/val各自的preprocess\n",
    "train_dataset.subset_transform = train_transform\n",
    "val_dataset.subset_transform = val_transform\n",
    "# train_dataset.subset_transform = preprocess\n",
    "# val_dataset.subset_transform = preprocess"
   ]
  },
  {
   "cell_type": "code",
   "execution_count": 59,
   "metadata": {},
   "outputs": [
    {
     "name": "stderr",
     "output_type": "stream",
     "text": [
      "Clipping input data to the valid range for imshow with RGB data ([0..1] for floats or [0..255] for integers).\n"
     ]
    },
    {
     "name": "stdout",
     "output_type": "stream",
     "text": [
      "tensor([55])\n"
     ]
    },
    {
     "data": {
      "image/png": "[encoded data removed]",
      "text/plain": [
       "<Figure size 432x288 with 1 Axes>"
      ]
     },
     "metadata": {
      "needs_background": "light"
     },
     "output_type": "display_data"
    },
    {
     "name": "stdout",
     "output_type": "stream",
     "text": [
      "tensor([111])\n"
     ]
    },
    {
     "name": "stderr",
     "output_type": "stream",
     "text": [
      "Clipping input data to the valid range for imshow with RGB data ([0..1] for floats or [0..255] for integers).\n"
     ]
    },
    {
     "data": {
      "image/png": "[encoded data removed]",
      "text/plain": [
       "<Figure size 432x288 with 1 Axes>"
      ]
     },
     "metadata": {
      "needs_background": "light"
     },
     "output_type": "display_data"
    },
    {
     "name": "stdout",
     "output_type": "stream",
     "text": [
      "tensor([64])\n"
     ]
    },
    {
     "name": "stderr",
     "output_type": "stream",
     "text": [
      "Clipping input data to the valid range for imshow with RGB data ([0..1] for floats or [0..255] for integers).\n"
     ]
    },
    {
     "data": {
      "image/png": "[encoded data removed]",
      "text/plain": [
       "<Figure size 432x288 with 1 Axes>"
      ]
     },
     "metadata": {
      "needs_background": "light"
     },
     "output_type": "display_data"
    },
    {
     "name": "stderr",
     "output_type": "stream",
     "text": [
      "Clipping input data to the valid range for imshow with RGB data ([0..1] for floats or [0..255] for integers).\n"
     ]
    },
    {
     "name": "stdout",
     "output_type": "stream",
     "text": [
      "tensor([194])\n"
     ]
    },
    {
     "data": {
      "image/png": "[encoded data removed]",
      "text/plain": [
       "<Figure size 432x288 with 1 Axes>"
      ]
     },
     "metadata": {
      "needs_background": "light"
     },
     "output_type": "display_data"
    },
    {
     "name": "stderr",
     "output_type": "stream",
     "text": [
      "Clipping input data to the valid range for imshow with RGB data ([0..1] for floats or [0..255] for integers).\n"
     ]
    },
    {
     "name": "stdout",
     "output_type": "stream",
     "text": [
      "tensor([47])\n"
     ]
    },
    {
     "data": {
      "image/png": "[encoded data removed]",
      "text/plain": [
       "<Figure size 432x288 with 1 Axes>"
      ]
     },
     "metadata": {
      "needs_background": "light"
     },
     "output_type": "display_data"
    }
   ],
   "source": [
    "# 測試讀取dataset中資料\n",
    "cnt = 0\n",
    "for image, label in DataLoader(train_dataset, batch_size=1):\n",
    "    print(label)\n",
    "    img = image[0]\n",
    "    img = img.numpy()\n",
    "    img = np.transpose(img, (1, 2, 0))\n",
    "    plt.imshow(img)\n",
    "    plt.show()\n",
    "    cnt += 1\n",
    "    if cnt == 5:\n",
    "        break"
   ]
  },
  {
   "cell_type": "code",
   "execution_count": 60,
   "id": "4470ef80",
   "metadata": {
    "ExecuteTime": {
     "end_time": "2022-04-06T11:59:31.031179Z",
     "start_time": "2022-04-06T11:58:37.362761Z"
    },
    "scrolled": true
   },
   "outputs": [
    {
     "name": "stderr",
     "output_type": "stream",
     "text": [
      "1it [00:05,  5.59s/it]"
     ]
    },
    {
     "name": "stdout",
     "output_type": "stream",
     "text": [
      "Steps: 0\n"
     ]
    },
    {
     "name": "stderr",
     "output_type": "stream",
     "text": [
      "\r",
      "2it [00:10,  5.48s/it]"
     ]
    },
    {
     "name": "stdout",
     "output_type": "stream",
     "text": [
      "Steps: 1\n"
     ]
    },
    {
     "name": "stderr",
     "output_type": "stream",
     "text": [
      "\r",
      "3it [00:16,  5.44s/it]"
     ]
    },
    {
     "name": "stdout",
     "output_type": "stream",
     "text": [
      "Steps: 2\n"
     ]
    },
    {
     "name": "stderr",
     "output_type": "stream",
     "text": [
      "\r",
      "4it [00:21,  5.45s/it]"
     ]
    },
    {
     "name": "stdout",
     "output_type": "stream",
     "text": [
      "Steps: 3\n"
     ]
    },
    {
     "name": "stderr",
     "output_type": "stream",
     "text": [
      "\r",
      "5it [00:27,  5.45s/it]"
     ]
    },
    {
     "name": "stdout",
     "output_type": "stream",
     "text": [
      "Steps: 4\n"
     ]
    },
    {
     "name": "stderr",
     "output_type": "stream",
     "text": [
      "\r",
      "6it [00:32,  5.46s/it]"
     ]
    },
    {
     "name": "stdout",
     "output_type": "stream",
     "text": [
      "Steps: 5\n"
     ]
    },
    {
     "name": "stderr",
     "output_type": "stream",
     "text": [
      "\r",
      "7it [00:38,  5.46s/it]"
     ]
    },
    {
     "name": "stdout",
     "output_type": "stream",
     "text": [
      "Steps: 6\n"
     ]
    },
    {
     "name": "stderr",
     "output_type": "stream",
     "text": [
      "\r",
      "8it [00:43,  5.46s/it]"
     ]
    },
    {
     "name": "stdout",
     "output_type": "stream",
     "text": [
      "Steps: 7\n"
     ]
    },
    {
     "name": "stderr",
     "output_type": "stream",
     "text": [
      "\r",
      "9it [00:49,  5.48s/it]"
     ]
    },
    {
     "name": "stdout",
     "output_type": "stream",
     "text": [
      "Steps: 8\n"
     ]
    },
    {
     "name": "stderr",
     "output_type": "stream",
     "text": [
      "\r",
      "10it [00:54,  5.49s/it]"
     ]
    },
    {
     "name": "stdout",
     "output_type": "stream",
     "text": [
      "Steps: 9\n"
     ]
    },
    {
     "name": "stderr",
     "output_type": "stream",
     "text": [
      "\r",
      "11it [01:00,  5.57s/it]"
     ]
    },
    {
     "name": "stdout",
     "output_type": "stream",
     "text": [
      "Steps: 10\n"
     ]
    },
    {
     "name": "stderr",
     "output_type": "stream",
     "text": [
      "\r",
      "12it [01:06,  5.65s/it]"
     ]
    },
    {
     "name": "stdout",
     "output_type": "stream",
     "text": [
      "Steps: 11\n"
     ]
    },
    {
     "name": "stderr",
     "output_type": "stream",
     "text": [
      "\r",
      "13it [01:12,  5.71s/it]"
     ]
    },
    {
     "name": "stdout",
     "output_type": "stream",
     "text": [
      "Steps: 12\n"
     ]
    },
    {
     "name": "stderr",
     "output_type": "stream",
     "text": [
      "\r",
      "14it [01:17,  5.75s/it]"
     ]
    },
    {
     "name": "stdout",
     "output_type": "stream",
     "text": [
      "Steps: 13\n"
     ]
    },
    {
     "name": "stderr",
     "output_type": "stream",
     "text": [
      "\r",
      "15it [01:23,  5.77s/it]"
     ]
    },
    {
     "name": "stdout",
     "output_type": "stream",
     "text": [
      "Steps: 14\n"
     ]
    },
    {
     "name": "stderr",
     "output_type": "stream",
     "text": [
      "\r",
      "16it [01:29,  5.78s/it]"
     ]
    },
    {
     "name": "stdout",
     "output_type": "stream",
     "text": [
      "Steps: 15\n"
     ]
    },
    {
     "name": "stderr",
     "output_type": "stream",
     "text": [
      "\r",
      "17it [01:35,  5.80s/it]"
     ]
    },
    {
     "name": "stdout",
     "output_type": "stream",
     "text": [
      "Steps: 16\n"
     ]
    },
    {
     "name": "stderr",
     "output_type": "stream",
     "text": [
      "\r",
      "18it [01:41,  5.80s/it]"
     ]
    },
    {
     "name": "stdout",
     "output_type": "stream",
     "text": [
      "Steps: 17\n"
     ]
    },
    {
     "name": "stderr",
     "output_type": "stream",
     "text": [
      "\r",
      "19it [01:47,  5.81s/it]"
     ]
    },
    {
     "name": "stdout",
     "output_type": "stream",
     "text": [
      "Steps: 18\n"
     ]
    },
    {
     "name": "stderr",
     "output_type": "stream",
     "text": [
      "\r",
      "20it [01:52,  5.81s/it]"
     ]
    },
    {
     "name": "stdout",
     "output_type": "stream",
     "text": [
      "Steps: 19\n"
     ]
    },
    {
     "name": "stderr",
     "output_type": "stream",
     "text": [
      "\r",
      "21it [01:58,  5.82s/it]"
     ]
    },
    {
     "name": "stdout",
     "output_type": "stream",
     "text": [
      "Steps: 20\n"
     ]
    },
    {
     "name": "stderr",
     "output_type": "stream",
     "text": [
      "\r",
      "22it [02:04,  5.82s/it]"
     ]
    },
    {
     "name": "stdout",
     "output_type": "stream",
     "text": [
      "Steps: 21\n"
     ]
    },
    {
     "name": "stderr",
     "output_type": "stream",
     "text": [
      "\r",
      "23it [02:10,  5.83s/it]"
     ]
    },
    {
     "name": "stdout",
     "output_type": "stream",
     "text": [
      "Steps: 22\n"
     ]
    },
    {
     "name": "stderr",
     "output_type": "stream",
     "text": [
      "\r",
      "24it [02:16,  5.83s/it]"
     ]
    },
    {
     "name": "stdout",
     "output_type": "stream",
     "text": [
      "Steps: 23\n"
     ]
    },
    {
     "name": "stderr",
     "output_type": "stream",
     "text": [
      "\r",
      "25it [02:22,  5.84s/it]"
     ]
    },
    {
     "name": "stdout",
     "output_type": "stream",
     "text": [
      "Steps: 24\n"
     ]
    },
    {
     "name": "stderr",
     "output_type": "stream",
     "text": [
      "\r",
      "26it [02:27,  5.84s/it]"
     ]
    },
    {
     "name": "stdout",
     "output_type": "stream",
     "text": [
      "Steps: 25\n"
     ]
    },
    {
     "name": "stderr",
     "output_type": "stream",
     "text": [
      "\r",
      "27it [02:33,  5.84s/it]"
     ]
    },
    {
     "name": "stdout",
     "output_type": "stream",
     "text": [
      "Steps: 26\n"
     ]
    },
    {
     "name": "stderr",
     "output_type": "stream",
     "text": [
      "\r",
      "28it [02:39,  5.83s/it]"
     ]
    },
    {
     "name": "stdout",
     "output_type": "stream",
     "text": [
      "Steps: 27\n"
     ]
    },
    {
     "name": "stderr",
     "output_type": "stream",
     "text": [
      "\r",
      "29it [02:45,  5.83s/it]"
     ]
    },
    {
     "name": "stdout",
     "output_type": "stream",
     "text": [
      "Steps: 28\n"
     ]
    },
    {
     "name": "stderr",
     "output_type": "stream",
     "text": [
      "\r",
      "30it [02:51,  5.83s/it]"
     ]
    },
    {
     "name": "stdout",
     "output_type": "stream",
     "text": [
      "Steps: 29\n"
     ]
    },
    {
     "name": "stderr",
     "output_type": "stream",
     "text": [
      "\r",
      "31it [02:57,  5.83s/it]"
     ]
    },
    {
     "name": "stdout",
     "output_type": "stream",
     "text": [
      "Steps: 30\n"
     ]
    },
    {
     "name": "stderr",
     "output_type": "stream",
     "text": [
      "\r",
      "32it [03:02,  5.83s/it]"
     ]
    },
    {
     "name": "stdout",
     "output_type": "stream",
     "text": [
      "Steps: 31\n"
     ]
    },
    {
     "name": "stderr",
     "output_type": "stream",
     "text": [
      "\r",
      "33it [03:08,  5.83s/it]"
     ]
    },
    {
     "name": "stdout",
     "output_type": "stream",
     "text": [
      "Steps: 32\n"
     ]
    },
    {
     "name": "stderr",
     "output_type": "stream",
     "text": [
      "\r",
      "34it [03:14,  5.83s/it]"
     ]
    },
    {
     "name": "stdout",
     "output_type": "stream",
     "text": [
      "Steps: 33\n"
     ]
    },
    {
     "name": "stderr",
     "output_type": "stream",
     "text": [
      "\r",
      "35it [03:20,  5.83s/it]"
     ]
    },
    {
     "name": "stdout",
     "output_type": "stream",
     "text": [
      "Steps: 34\n"
     ]
    },
    {
     "name": "stderr",
     "output_type": "stream",
     "text": [
      "\r",
      "36it [03:26,  5.83s/it]"
     ]
    },
    {
     "name": "stdout",
     "output_type": "stream",
     "text": [
      "Steps: 35\n"
     ]
    },
    {
     "name": "stderr",
     "output_type": "stream",
     "text": [
      "\r",
      "37it [03:32,  5.83s/it]"
     ]
    },
    {
     "name": "stdout",
     "output_type": "stream",
     "text": [
      "Steps: 36\n"
     ]
    },
    {
     "name": "stderr",
     "output_type": "stream",
     "text": [
      "\r",
      "38it [03:37,  5.83s/it]"
     ]
    },
    {
     "name": "stdout",
     "output_type": "stream",
     "text": [
      "Steps: 37\n"
     ]
    },
    {
     "name": "stderr",
     "output_type": "stream",
     "text": [
      "\r",
      "39it [03:43,  5.83s/it]"
     ]
    },
    {
     "name": "stdout",
     "output_type": "stream",
     "text": [
      "Steps: 38\n"
     ]
    },
    {
     "name": "stderr",
     "output_type": "stream",
     "text": [
      "\r",
      "40it [03:49,  5.83s/it]"
     ]
    },
    {
     "name": "stdout",
     "output_type": "stream",
     "text": [
      "Steps: 39\n"
     ]
    },
    {
     "name": "stderr",
     "output_type": "stream",
     "text": [
      "\r",
      "41it [03:55,  5.83s/it]"
     ]
    },
    {
     "name": "stdout",
     "output_type": "stream",
     "text": [
      "Steps: 40\n"
     ]
    },
    {
     "name": "stderr",
     "output_type": "stream",
     "text": [
      "\r",
      "42it [04:01,  5.84s/it]"
     ]
    },
    {
     "name": "stdout",
     "output_type": "stream",
     "text": [
      "Steps: 41\n"
     ]
    },
    {
     "name": "stderr",
     "output_type": "stream",
     "text": [
      "\r",
      "43it [04:07,  5.83s/it]"
     ]
    },
    {
     "name": "stdout",
     "output_type": "stream",
     "text": [
      "Steps: 42\n"
     ]
    },
    {
     "name": "stderr",
     "output_type": "stream",
     "text": [
      "\r",
      "44it [04:12,  5.84s/it]"
     ]
    },
    {
     "name": "stdout",
     "output_type": "stream",
     "text": [
      "Steps: 43\n"
     ]
    },
    {
     "name": "stderr",
     "output_type": "stream",
     "text": [
      "\r",
      "45it [04:18,  5.84s/it]"
     ]
    },
    {
     "name": "stdout",
     "output_type": "stream",
     "text": [
      "Steps: 44\n"
     ]
    },
    {
     "name": "stderr",
     "output_type": "stream",
     "text": [
      "\r",
      "46it [04:24,  5.83s/it]"
     ]
    },
    {
     "name": "stdout",
     "output_type": "stream",
     "text": [
      "Steps: 45\n"
     ]
    },
    {
     "name": "stderr",
     "output_type": "stream",
     "text": [
      "\r",
      "47it [04:30,  5.84s/it]"
     ]
    },
    {
     "name": "stdout",
     "output_type": "stream",
     "text": [
      "Steps: 46\n"
     ]
    },
    {
     "name": "stderr",
     "output_type": "stream",
     "text": [
      "\r",
      "48it [04:36,  5.84s/it]"
     ]
    },
    {
     "name": "stdout",
     "output_type": "stream",
     "text": [
      "Steps: 47\n"
     ]
    },
    {
     "name": "stderr",
     "output_type": "stream",
     "text": [
      "\r",
      "49it [04:42,  5.83s/it]"
     ]
    },
    {
     "name": "stdout",
     "output_type": "stream",
     "text": [
      "Steps: 48\n"
     ]
    },
    {
     "name": "stderr",
     "output_type": "stream",
     "text": [
      "\r",
      "50it [04:47,  5.83s/it]"
     ]
    },
    {
     "name": "stdout",
     "output_type": "stream",
     "text": [
      "Steps: 49\n"
     ]
    },
    {
     "name": "stderr",
     "output_type": "stream",
     "text": [
      "\r",
      "51it [04:53,  5.83s/it]"
     ]
    },
    {
     "name": "stdout",
     "output_type": "stream",
     "text": [
      "Steps: 50\n"
     ]
    },
    {
     "name": "stderr",
     "output_type": "stream",
     "text": [
      "\r",
      "52it [04:59,  5.83s/it]"
     ]
    },
    {
     "name": "stdout",
     "output_type": "stream",
     "text": [
      "Steps: 51\n"
     ]
    },
    {
     "name": "stderr",
     "output_type": "stream",
     "text": [
      "\r",
      "53it [05:05,  5.83s/it]"
     ]
    },
    {
     "name": "stdout",
     "output_type": "stream",
     "text": [
      "Steps: 52\n"
     ]
    },
    {
     "name": "stderr",
     "output_type": "stream",
     "text": [
      "\r",
      "54it [05:11,  5.84s/it]"
     ]
    },
    {
     "name": "stdout",
     "output_type": "stream",
     "text": [
      "Steps: 53\n"
     ]
    },
    {
     "name": "stderr",
     "output_type": "stream",
     "text": [
      "\r",
      "55it [05:17,  5.82s/it]"
     ]
    },
    {
     "name": "stdout",
     "output_type": "stream",
     "text": [
      "Steps: 54\n"
     ]
    },
    {
     "name": "stderr",
     "output_type": "stream",
     "text": [
      "\r",
      "56it [05:22,  5.82s/it]"
     ]
    },
    {
     "name": "stdout",
     "output_type": "stream",
     "text": [
      "Steps: 55\n"
     ]
    },
    {
     "name": "stderr",
     "output_type": "stream",
     "text": [
      "\r",
      "57it [05:28,  5.82s/it]"
     ]
    },
    {
     "name": "stdout",
     "output_type": "stream",
     "text": [
      "Steps: 56\n"
     ]
    },
    {
     "name": "stderr",
     "output_type": "stream",
     "text": [
      "\r",
      "58it [05:34,  5.83s/it]"
     ]
    },
    {
     "name": "stdout",
     "output_type": "stream",
     "text": [
      "Steps: 57\n"
     ]
    },
    {
     "name": "stderr",
     "output_type": "stream",
     "text": [
      "\r",
      "59it [05:40,  5.83s/it]"
     ]
    },
    {
     "name": "stdout",
     "output_type": "stream",
     "text": [
      "Steps: 58\n"
     ]
    },
    {
     "name": "stderr",
     "output_type": "stream",
     "text": [
      "\r",
      "60it [05:46,  5.83s/it]"
     ]
    },
    {
     "name": "stdout",
     "output_type": "stream",
     "text": [
      "Steps: 59\n"
     ]
    },
    {
     "name": "stderr",
     "output_type": "stream",
     "text": [
      "\r",
      "61it [05:52,  5.85s/it]"
     ]
    },
    {
     "name": "stdout",
     "output_type": "stream",
     "text": [
      "Steps: 60\n"
     ]
    },
    {
     "name": "stderr",
     "output_type": "stream",
     "text": [
      "\r",
      "62it [05:57,  5.84s/it]"
     ]
    },
    {
     "name": "stdout",
     "output_type": "stream",
     "text": [
      "Steps: 61\n"
     ]
    },
    {
     "name": "stderr",
     "output_type": "stream",
     "text": [
      "\r",
      "63it [06:03,  5.83s/it]"
     ]
    },
    {
     "name": "stdout",
     "output_type": "stream",
     "text": [
      "Steps: 62\n"
     ]
    },
    {
     "name": "stderr",
     "output_type": "stream",
     "text": [
      "\r",
      "64it [06:09,  5.83s/it]"
     ]
    },
    {
     "name": "stdout",
     "output_type": "stream",
     "text": [
      "Steps: 63\n"
     ]
    },
    {
     "name": "stderr",
     "output_type": "stream",
     "text": [
      "\r",
      "65it [06:15,  5.83s/it]"
     ]
    },
    {
     "name": "stdout",
     "output_type": "stream",
     "text": [
      "Steps: 64\n"
     ]
    },
    {
     "name": "stderr",
     "output_type": "stream",
     "text": [
      "\r",
      "66it [06:21,  5.82s/it]"
     ]
    },
    {
     "name": "stdout",
     "output_type": "stream",
     "text": [
      "Steps: 65\n"
     ]
    },
    {
     "name": "stderr",
     "output_type": "stream",
     "text": [
      "\r",
      "67it [06:26,  5.82s/it]"
     ]
    },
    {
     "name": "stdout",
     "output_type": "stream",
     "text": [
      "Steps: 66\n"
     ]
    },
    {
     "name": "stderr",
     "output_type": "stream",
     "text": [
      "\r",
      "68it [06:32,  5.82s/it]"
     ]
    },
    {
     "name": "stdout",
     "output_type": "stream",
     "text": [
      "Steps: 67\n"
     ]
    },
    {
     "name": "stderr",
     "output_type": "stream",
     "text": [
      "\r",
      "69it [06:38,  5.82s/it]"
     ]
    },
    {
     "name": "stdout",
     "output_type": "stream",
     "text": [
      "Steps: 68\n"
     ]
    },
    {
     "name": "stderr",
     "output_type": "stream",
     "text": [
      "\r",
      "70it [06:44,  5.82s/it]"
     ]
    },
    {
     "name": "stdout",
     "output_type": "stream",
     "text": [
      "Steps: 69\n"
     ]
    },
    {
     "name": "stderr",
     "output_type": "stream",
     "text": [
      "\r",
      "71it [06:50,  5.81s/it]"
     ]
    },
    {
     "name": "stdout",
     "output_type": "stream",
     "text": [
      "Steps: 70\n"
     ]
    },
    {
     "name": "stderr",
     "output_type": "stream",
     "text": [
      "\r",
      "72it [06:56,  5.81s/it]"
     ]
    },
    {
     "name": "stdout",
     "output_type": "stream",
     "text": [
      "Steps: 71\n"
     ]
    },
    {
     "name": "stderr",
     "output_type": "stream",
     "text": [
      "\r",
      "73it [07:01,  5.81s/it]"
     ]
    },
    {
     "name": "stdout",
     "output_type": "stream",
     "text": [
      "Steps: 72\n"
     ]
    },
    {
     "name": "stderr",
     "output_type": "stream",
     "text": [
      "\r",
      "74it [07:07,  5.82s/it]"
     ]
    },
    {
     "name": "stdout",
     "output_type": "stream",
     "text": [
      "Steps: 73\n"
     ]
    },
    {
     "name": "stderr",
     "output_type": "stream",
     "text": [
      "\r",
      "75it [07:13,  5.82s/it]"
     ]
    },
    {
     "name": "stdout",
     "output_type": "stream",
     "text": [
      "Steps: 74\n"
     ]
    },
    {
     "name": "stderr",
     "output_type": "stream",
     "text": [
      "\r",
      "76it [07:19,  5.82s/it]"
     ]
    },
    {
     "name": "stdout",
     "output_type": "stream",
     "text": [
      "Steps: 75\n"
     ]
    },
    {
     "name": "stderr",
     "output_type": "stream",
     "text": [
      "\r",
      "77it [07:25,  5.81s/it]"
     ]
    },
    {
     "name": "stdout",
     "output_type": "stream",
     "text": [
      "Steps: 76\n"
     ]
    },
    {
     "name": "stderr",
     "output_type": "stream",
     "text": [
      "\r",
      "78it [07:30,  5.82s/it]"
     ]
    },
    {
     "name": "stdout",
     "output_type": "stream",
     "text": [
      "Steps: 77\n"
     ]
    },
    {
     "name": "stderr",
     "output_type": "stream",
     "text": [
      "\r",
      "79it [07:36,  5.82s/it]"
     ]
    },
    {
     "name": "stdout",
     "output_type": "stream",
     "text": [
      "Steps: 78\n"
     ]
    },
    {
     "name": "stderr",
     "output_type": "stream",
     "text": [
      "\r",
      "80it [07:42,  5.82s/it]"
     ]
    },
    {
     "name": "stdout",
     "output_type": "stream",
     "text": [
      "Steps: 79\n"
     ]
    },
    {
     "name": "stderr",
     "output_type": "stream",
     "text": [
      "\r",
      "80it [07:48,  5.86s/it]"
     ]
    },
    {
     "name": "stdout",
     "output_type": "stream",
     "text": [
      "Steps: 80\n"
     ]
    },
    {
     "name": "stderr",
     "output_type": "stream",
     "text": [
      "\n",
      "1it [00:05,  5.77s/it]"
     ]
    },
    {
     "name": "stdout",
     "output_type": "stream",
     "text": [
      "Steps: 0\n"
     ]
    },
    {
     "name": "stderr",
     "output_type": "stream",
     "text": [
      "\r",
      "2it [00:11,  5.79s/it]"
     ]
    },
    {
     "name": "stdout",
     "output_type": "stream",
     "text": [
      "Steps: 1\n"
     ]
    },
    {
     "name": "stderr",
     "output_type": "stream",
     "text": [
      "\r",
      "3it [00:17,  5.79s/it]"
     ]
    },
    {
     "name": "stdout",
     "output_type": "stream",
     "text": [
      "Steps: 2\n"
     ]
    },
    {
     "name": "stderr",
     "output_type": "stream",
     "text": [
      "\r",
      "4it [00:23,  5.79s/it]"
     ]
    },
    {
     "name": "stdout",
     "output_type": "stream",
     "text": [
      "Steps: 3\n"
     ]
    },
    {
     "name": "stderr",
     "output_type": "stream",
     "text": [
      "\r",
      "5it [00:28,  5.79s/it]"
     ]
    },
    {
     "name": "stdout",
     "output_type": "stream",
     "text": [
      "Steps: 4\n"
     ]
    },
    {
     "name": "stderr",
     "output_type": "stream",
     "text": [
      "\r",
      "6it [00:34,  5.79s/it]"
     ]
    },
    {
     "name": "stdout",
     "output_type": "stream",
     "text": [
      "Steps: 5\n"
     ]
    },
    {
     "name": "stderr",
     "output_type": "stream",
     "text": [
      "\r",
      "6it [00:37,  6.29s/it]"
     ]
    },
    {
     "name": "stdout",
     "output_type": "stream",
     "text": [
      "Steps: 6\n",
      "Time: 506.4590253829956\n"
     ]
    },
    {
     "name": "stderr",
     "output_type": "stream",
     "text": [
      "\n"
     ]
    }
   ],
   "source": [
    "import time\n",
    "# Calculate the image features\n",
    "start = time.time()\n",
    "train_features, train_labels = get_features(train_dataset, epoch_num=5)\n",
    "val_features, val_labels = get_features(val_dataset, epoch_num=1)\n",
    "end = time.time()\n",
    "print(f'Time: {end-start}')"
   ]
  },
  {
   "cell_type": "code",
   "execution_count": 61,
   "id": "c6771d95",
   "metadata": {
    "ExecuteTime": {
     "end_time": "2022-04-06T11:59:54.732934Z",
     "start_time": "2022-04-06T11:59:54.714918Z"
    }
   },
   "outputs": [],
   "source": [
    "# np.save('train_features_ViTB32', train_features)\n",
    "# np.save('train_labels_ViTB32', train_labels)\n",
    "# np.save('val_features_ViTB32', val_features)\n",
    "# np.save('val_labels_ViTB32', val_labels)\n",
    "\n",
    "np.save('train_features_ViTB32_DA2', train_features)\n",
    "np.save('train_labels_ViTB32_DA2', train_labels)\n",
    "np.save('val_features_ViTB32_DA2', val_features)\n",
    "np.save('val_labels_ViTB32_DA2', val_labels)"
   ]
  },
  {
   "cell_type": "markdown",
   "id": "5664b0e2",
   "metadata": {},
   "source": [
    "## 分類器訓練"
   ]
  },
  {
   "cell_type": "markdown",
   "id": "ae2ce3ef",
   "metadata": {},
   "source": [
    "### Pipeline實驗\n",
    "- 先用pipe.get_params() 查看各個paramaters的名稱，構成pipeline後會更名"
   ]
  },
  {
   "cell_type": "code",
   "execution_count": 62,
   "id": "cda9a4e1",
   "metadata": {
    "ExecuteTime": {
     "end_time": "2022-04-06T12:04:57.531284Z",
     "start_time": "2022-04-06T12:00:23.355751Z"
    },
    "scrolled": true
   },
   "outputs": [
    {
     "name": "stdout",
     "output_type": "stream",
     "text": [
      "{'memory': None, 'steps': [('LG', LogisticRegression(random_state=1))], 'verbose': 1, 'LG': LogisticRegression(random_state=1), 'LG__C': 1.0, 'LG__class_weight': None, 'LG__dual': False, 'LG__fit_intercept': True, 'LG__intercept_scaling': 1, 'LG__l1_ratio': None, 'LG__max_iter': 100, 'LG__multi_class': 'auto', 'LG__n_jobs': None, 'LG__penalty': 'l2', 'LG__random_state': 1, 'LG__solver': 'lbfgs', 'LG__tol': 0.0001, 'LG__verbose': 0, 'LG__warm_start': False}\n",
      "[Pipeline] ................ (step 1 of 1) Processing LG, total=  57.6s\n",
      "[Pipeline] ................ (step 1 of 1) Processing LG, total=  58.0s\n",
      "[Pipeline] ................ (step 1 of 1) Processing LG, total= 1.0min\n",
      "[Pipeline] ................ (step 1 of 1) Processing LG, total=  55.7s\n",
      "[Pipeline] ................ (step 1 of 1) Processing LG, total=  58.8s\n",
      "[Pipeline] ................ (step 1 of 1) Processing LG, total=  59.2s\n",
      "[Pipeline] ................ (step 1 of 1) Processing LG, total=  59.0s\n",
      "[Pipeline] ................ (step 1 of 1) Processing LG, total= 1.4min\n",
      "[Pipeline] ................ (step 1 of 1) Processing LG, total=  59.5s\n",
      "[Pipeline] ................ (step 1 of 1) Processing LG, total=  57.8s\n",
      "[Pipeline] ................ (step 1 of 1) Processing LG, total= 1.5min\n",
      "[Pipeline] ................ (step 1 of 1) Processing LG, total= 1.0min\n",
      "[Pipeline] ................ (step 1 of 1) Processing LG, total= 1.7min\n",
      "Parameter (CV score=0.9835802469135803): {'LG__C': 0.8, 'LG__max_iter': 5000, 'LG__penalty': 'l2'}\n",
      "LG Score on TestData: 0.8006088280060882\n",
      "****************************************************************************\n",
      "\n",
      "Best Model: {'LG__C': 0.8, 'LG__max_iter': 5000, 'LG__penalty': 'l2'}\n",
      "\n",
      "Best test score: 0.8006088280060882\n"
     ]
    }
   ],
   "source": [
    "import sklearn\n",
    "from sklearn.model_selection import train_test_split, GridSearchCV\n",
    "from sklearn.pipeline import Pipeline\n",
    "# 前處理\n",
    "from sklearn.preprocessing import StandardScaler, MinMaxScaler, MaxAbsScaler, RobustScaler\n",
    "from sklearn.decomposition import PCA\n",
    "# 模型\n",
    "from sklearn.linear_model import LogisticRegression\n",
    "from sklearn.preprocessing import StandardScaler, MinMaxScaler, MaxAbsScaler, RobustScaler\n",
    "from sklearn.ensemble import RandomForestClassifier, GradientBoostingClassifier\n",
    "from sklearn.svm import SVC\n",
    "\n",
    "train_features = np.load('train_features_ViTB32_DA2.npy')\n",
    "train_labels = np.load('train_labels_ViTB32_DA2.npy')\n",
    "val_features = np.load('val_features_ViTB32_DA2.npy')\n",
    "val_labels = np.load('val_labels_ViTB32_DA2.npy')\n",
    "\n",
    "\n",
    "# 資料前處理\n",
    "# 標準化\n",
    "standardize = StandardScaler()\n",
    "pca = PCA()\n",
    "\n",
    "# 模型\n",
    "clf_LG = LogisticRegression(random_state=1)\n",
    "clf_SVC = SVC(random_state=1)\n",
    "clf_RFC = RandomForestClassifier(random_state=1)\n",
    "clf_dict = {\n",
    "    'LG': clf_LG,\n",
    "#     'SVC': clf_SVC,\n",
    "#     'RFC':clf_RFC\n",
    "} \n",
    "\n",
    "# Parameters Search Space\n",
    "param_grid_LG = {\n",
    "    'LG__penalty': ['l2'],\n",
    "    'LG__max_iter': [5000, 10000],\n",
    "    'LG__C': np.arange(0.8, 1.0, 0.1).tolist()\n",
    "}\n",
    "param_grid_RFC = {\n",
    "    'RFC__n_estimators': [300, 400, 500],\n",
    "}\n",
    "param_grid_SVC = {\n",
    "    'SVC__C': np.arange(0.7, 1.0, 0.1).tolist(),\n",
    "    'SVC__kernel': ['linear', 'rbf', 'sigmoid'],\n",
    "    'SVC__tol': [1e-5, 1e-4, 1e-3],\n",
    "}\n",
    "\n",
    "param_dict = {\n",
    "    'LG': param_grid_LG,\n",
    "    'RFC': param_grid_RFC,\n",
    "    'SVC': param_grid_SVC\n",
    "}\n",
    "\n",
    "best_model = {}\n",
    "best_score = 0.0\n",
    "for clf_id, clf in clf_dict.items():\n",
    "    pipe = Pipeline(steps=[(clf_id, clf)], verbose=1)\n",
    "    print(pipe.get_params())\n",
    "    search = GridSearchCV(pipe, param_dict[clf_id],\n",
    "                          cv=3,\n",
    "                          return_train_score=True,\n",
    "                          scoring=['accuracy', 'f1_micro'], # search.score會使用第一個metric\n",
    "                          refit='f1_micro')\n",
    "    search.fit(train_features, train_labels)\n",
    "    \n",
    "    if search.score(val_features, val_labels) > best_score: # 挑模型\n",
    "        best_model = search.best_params_\n",
    "        best_score = search.score(val_features, val_labels)\n",
    "        best_estimator = search.best_estimator_.get_params()\n",
    "    print(f'Parameter (CV score={search.best_score_}): {search.best_params_}')\n",
    "    print(f'{clf_id} Score on TestData: {search.score(val_features, val_labels)}')\n",
    "    print('****************************************************************************\\n')\n",
    "print(f'Best Model: {best_model}\\n')\n",
    "print(f'Best test score: {best_score}')"
   ]
  },
  {
   "cell_type": "code",
   "execution_count": null,
   "id": "9dcccd0b",
   "metadata": {
    "ExecuteTime": {
     "end_time": "2022-04-05T12:47:22.537081Z",
     "start_time": "2022-04-05T12:47:22.524071Z"
    }
   },
   "outputs": [],
   "source": [
    "# 查看最佳模型完整參數\n",
    "best_estimator"
   ]
  },
  {
   "cell_type": "code",
   "execution_count": null,
   "id": "7aae1eb9",
   "metadata": {
    "ExecuteTime": {
     "end_time": "2022-04-05T12:48:12.927572Z",
     "start_time": "2022-04-05T12:48:12.866518Z"
    }
   },
   "outputs": [],
   "source": [
    "# 顯示全部實驗結果\n",
    "pd.DataFrame(search.cv_results_)"
   ]
  },
  {
   "cell_type": "markdown",
   "id": "c4e12e4b",
   "metadata": {
    "ExecuteTime": {
     "end_time": "2022-03-25T07:44:56.630599Z",
     "start_time": "2022-03-25T07:44:56.605601Z"
    }
   },
   "source": [
    "### 以最佳模型參數建立模型"
   ]
  },
  {
   "cell_type": "code",
   "execution_count": null,
   "id": "902e1d6b",
   "metadata": {
    "ExecuteTime": {
     "end_time": "2022-04-05T12:48:16.547306Z",
     "start_time": "2022-04-05T12:48:16.533294Z"
    }
   },
   "outputs": [],
   "source": [
    "best_model_name = list(best_estimator.keys())[3]\n",
    "best_model_name"
   ]
  },
  {
   "cell_type": "code",
   "execution_count": null,
   "id": "fc19d74f",
   "metadata": {
    "ExecuteTime": {
     "end_time": "2022-04-05T12:48:25.358328Z",
     "start_time": "2022-04-05T12:48:18.823271Z"
    }
   },
   "outputs": [],
   "source": [
    "# 將被pipeline更名過的參數回復\n",
    "# new_params = {}\n",
    "# for key, value in search.best_params_.items():\n",
    "#     new_params[key.split('__')[1]] = value \n",
    "\n",
    "clf_name = best_estimator[best_model_name]\n",
    "best_clf = Pipeline(steps=[(best_model_name, clf_name)], verbose=1)\n",
    "best_clf.fit(x_train, y_train)\n",
    "best_clf.score(x_test, y_test)"
   ]
  },
  {
   "cell_type": "markdown",
   "id": "25c2d43f",
   "metadata": {},
   "source": [
    "### Evaluation"
   ]
  },
  {
   "cell_type": "code",
   "execution_count": null,
   "id": "000732bf",
   "metadata": {
    "ExecuteTime": {
     "end_time": "2022-04-05T12:48:27.214620Z",
     "start_time": "2022-04-05T12:48:27.196604Z"
    }
   },
   "outputs": [],
   "source": [
    "# Evaluate using the logistic regression classifier\n",
    "predictions = best_clf.predict(x_test)\n",
    "accuracy = np.mean((y_test == predictions).astype(np.float)) * 100.\n",
    "print(f\"Accuracy = {accuracy:.3f}\")"
   ]
  },
  {
   "cell_type": "code",
   "execution_count": null,
   "id": "c0174036",
   "metadata": {
    "ExecuteTime": {
     "end_time": "2022-03-30T11:31:16.663386Z",
     "start_time": "2022-03-30T11:31:16.648373Z"
    }
   },
   "outputs": [],
   "source": [
    "from sklearn.metrics import classification_report\n",
    "import itertools\n",
    "import matplotlib.pyplot as plt\n",
    "from sklearn.metrics import confusion_matrix\n",
    "import numpy as np\n",
    "\n",
    "def plot_confusion_matrix(cm, classes,\n",
    "                          normalize=False,\n",
    "                          title='Confusion matrix',\n",
    "                          cmap=plt.cm.Blues):\n",
    "    \"\"\"\n",
    "    This function prints and plots the confusion matrix.\n",
    "    Normalization can be applied by setting `normalize=True`.\n",
    "    \"\"\"\n",
    "    if normalize:\n",
    "        cm = cm.astype('float') / cm.sum(axis=1)[:, np.newaxis]\n",
    "        print(\"Normalized confusion matrix\")\n",
    "    else:\n",
    "        print('Confusion matrix, without normalization')\n",
    "\n",
    "    print(cm)\n",
    "\n",
    "    plt.imshow(cm, interpolation='nearest', cmap=cmap)\n",
    "    plt.title(title)\n",
    "    plt.colorbar()\n",
    "    tick_marks = np.arange(len(classes))\n",
    "    plt.xticks(tick_marks, classes, rotation=45)\n",
    "    plt.yticks(tick_marks, classes)\n",
    "\n",
    "    fmt = '.2f' if normalize else 'd'\n",
    "    thresh = cm.max() / 2.\n",
    "    for i, j in itertools.product(range(cm.shape[0]), range(cm.shape[1])):\n",
    "        plt.text(j, i, format(cm[i, j], fmt),\n",
    "                 horizontalalignment=\"center\",\n",
    "                 color=\"white\" if cm[i, j] > thresh else \"black\")\n",
    "\n",
    "    plt.ylabel('True label')\n",
    "    plt.xlabel('Predicted label')\n",
    "    plt.tight_layout()"
   ]
  },
  {
   "cell_type": "code",
   "execution_count": null,
   "id": "ba2f07aa",
   "metadata": {
    "ExecuteTime": {
     "end_time": "2022-03-30T11:31:17.925121Z",
     "start_time": "2022-03-30T11:31:17.913110Z"
    }
   },
   "outputs": [],
   "source": [
    "target_names = ['banana', 'bareland', 'carrot', 'corn', 'dragonfruit', 'garlic',\n",
    "                'guava', 'inundated', 'peanut', 'pineapple', 'pumpkin', 'rice',\n",
    "                'soybean', 'sugarcane', 'tomato']\n",
    "print(classification_report(y_test, predictions, target_names=target_names))\n",
    "print (\"**************************************************************\")"
   ]
  },
  {
   "cell_type": "code",
   "execution_count": null,
   "id": "27f1efe7",
   "metadata": {
    "ExecuteTime": {
     "end_time": "2022-03-30T11:31:21.633100Z",
     "start_time": "2022-03-30T11:31:19.976381Z"
    }
   },
   "outputs": [],
   "source": [
    "plt.style.use('seaborn-white')\n",
    "plt.figure(figsize=(50, 20))\n",
    "cnf_matrix = confusion_matrix(y_test, predictions)\n",
    "plot_confusion_matrix(cnf_matrix, classes=target_names,normalize=True,\n",
    "                    title='confusion matrix')"
   ]
  },
  {
   "cell_type": "markdown",
   "id": "f1e3edcc",
   "metadata": {},
   "source": [
    "## 實驗\n",
    "- DA5 : Data Augmentation with 5 num_iter (五倍資料量)\n",
    "- B32 : ViT_B32\n",
    "- train_test_split : 7:3\n",
    "- cv : 3\n",
    "\n",
    "### BaseLine\n",
    "- NoDA, B/32, LG, iter=5000, C=0.9 : 70.9%\n",
    "- NoDA, L/14, LG, iter=5000, C=0.9 : 77.9%\n",
    "\n",
    "\n",
    "### ViT_B/32\n",
    "- DA,  LG, iter=5000, C=0.9, No[ColorHitter] : 62.7%\n",
    "- DA2, LG, iter=5000, C=0.9, No[ColorHitter] : 68.49%\n",
    "- DA5, LG, iter=5000, C=0.9, No[ColorHitter] : 73.82% \n",
    "- DA10, LG, iter=5000, C=0.9, No[ColorHitter] : 75.95% \n",
    "\n",
    "\n",
    "\n",
    "### ViT_L/14\n",
    "- DA,  LG, iter=5000, C=0.9, No[ColorHitter] : 68.9%\n",
    "- DA2, LG, iter=5000, C=0.9, No[ColorHitter] : 75.19%\n",
    "- DA5, LG, iter=5000, C=0.9, , No[ColorHitter] : 80%\n"
   ]
  }
 ],
 "metadata": {
  "kernelspec": {
   "display_name": "torch171_py38",
   "language": "python",
   "name": "torch171_py38"
  },
  "language_info": {
   "codemirror_mode": {
    "name": "ipython",
    "version": 3
   },
   "file_extension": ".py",
   "mimetype": "text/x-python",
   "name": "python",
   "nbconvert_exporter": "python",
   "pygments_lexer": "ipython3",
   "version": "3.8.13"
  },
  "varInspector": {
   "cols": {
    "lenName": 16,
    "lenType": 16,
    "lenVar": 40
   },
   "kernels_config": {
    "python": {
     "delete_cmd_postfix": "",
     "delete_cmd_prefix": "del ",
     "library": "var_list.py",
     "varRefreshCmd": "print(var_dic_list())"
    },
    "r": {
     "delete_cmd_postfix": ") ",
     "delete_cmd_prefix": "rm(",
     "library": "var_list.r",
     "varRefreshCmd": "cat(var_dic_list()) "
    }
   },
   "types_to_exclude": [
    "module",
    "function",
    "builtin_function_or_method",
    "instance",
    "_Feature"
   ],
   "window_display": false
  }
 },
 "nbformat": 4,
 "nbformat_minor": 5
}
